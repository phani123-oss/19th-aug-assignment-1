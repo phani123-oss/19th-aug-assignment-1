{
 "cells": [
  {
   "cell_type": "code",
   "execution_count": 5,
   "id": "f871ffa7-6000-4f34-93c4-f9939d7a0dd0",
   "metadata": {},
   "outputs": [],
   "source": [
    "#Declare two variables, `x` and `y`, and assign them integer values. Swap the\n",
    "#values of these variables without using any temporary variable.\n",
    "\n",
    "x,y=10,20"
   ]
  },
  {
   "cell_type": "code",
   "execution_count": 6,
   "id": "607d14f2-0232-4104-973a-bea8cc23af30",
   "metadata": {},
   "outputs": [],
   "source": [
    "(x,y)=(y,x) #swaping condition"
   ]
  },
  {
   "cell_type": "code",
   "execution_count": 7,
   "id": "675fd1df-95af-4b6b-bc3e-3b0302f7a3f0",
   "metadata": {},
   "outputs": [
    {
     "data": {
      "text/plain": [
       "20"
      ]
     },
     "execution_count": 7,
     "metadata": {},
     "output_type": "execute_result"
    }
   ],
   "source": [
    "x"
   ]
  },
  {
   "cell_type": "code",
   "execution_count": 8,
   "id": "92444507-3aef-4470-b4f4-814b51da891c",
   "metadata": {},
   "outputs": [
    {
     "data": {
      "text/plain": [
       "10"
      ]
     },
     "execution_count": 8,
     "metadata": {},
     "output_type": "execute_result"
    }
   ],
   "source": [
    "y"
   ]
  },
  {
   "cell_type": "code",
   "execution_count": 11,
   "id": "32e811d2-4a46-4250-b47c-802f108f1e86",
   "metadata": {},
   "outputs": [
    {
     "name": "stdout",
     "output_type": "stream",
     "text": [
      "area of triangle:  25.0\n"
     ]
    }
   ],
   "source": [
    "#Create a program that calculates the area of a rectangle. Take the length and\n",
    "#width as inputs from the user and store them in variables. Calculate and\n",
    "#display the area.\n",
    "\n",
    "#taking length and heights\n",
    "\n",
    "l,h=5,10\n",
    "#formula=(l*h)/2\n",
    "\n",
    "x=(l*h)/2       \n",
    "print(\"area of triangle: \",x)"
   ]
  },
  {
   "cell_type": "code",
   "execution_count": 15,
   "id": "b13dceb8-fbda-4bc4-aec5-60fd4fff11b6",
   "metadata": {},
   "outputs": [
    {
     "name": "stdout",
     "output_type": "stream",
     "text": [
      "after converting result is:  58\n"
     ]
    }
   ],
   "source": [
    "'''Write a Python program that converts temperatures from Celsius to\n",
    "Fahrenheit. Take the temperature in Celsius as input, store it in a variable,\n",
    "convert it to Fahrenheit, and display the result.'''\n",
    "\n",
    "#formula [temp*(9/5)+32]\n",
    "\n",
    "#taking temp=26\n",
    "t=26\n",
    "result=t*(9//5)+32\n",
    "print(\"after converting result is: \",result)"
   ]
  },
  {
   "cell_type": "code",
   "execution_count": 16,
   "id": "7caad351-8198-4027-931a-a6adb0b29a6c",
   "metadata": {},
   "outputs": [
    {
     "data": {
      "text/plain": [
       "8"
      ]
     },
     "execution_count": 16,
     "metadata": {},
     "output_type": "execute_result"
    }
   ],
   "source": [
    "'''Write a Python program that takes a string as input and prints the length of\n",
    "the string.'''\n",
    "\n",
    "s=\"pwskills\"\n",
    "len(s)"
   ]
  },
  {
   "cell_type": "code",
   "execution_count": 21,
   "id": "9ea5bec5-e6b7-42dd-9b76-9c3fad112c93",
   "metadata": {},
   "outputs": [
    {
     "name": "stdout",
     "output_type": "stream",
     "text": [
      "reversed string is:  sllikswp\n"
     ]
    }
   ],
   "source": [
    "'''Given a string, reverse the order of characters using string slicing and print\n",
    "the reversed string.'''\n",
    "\n",
    "s=\"pwskills\"\n",
    "x=s[::-1]                #using slicing method to reverse a string\n",
    "print(\"reversed string is: \",x)"
   ]
  },
  {
   "cell_type": "code",
   "execution_count": 23,
   "id": "25aa0836-c941-4351-b8ca-c1f7e856f551",
   "metadata": {},
   "outputs": [
    {
     "name": "stdin",
     "output_type": "stream",
     "text": [
      "enter any string mam\n"
     ]
    },
    {
     "name": "stdout",
     "output_type": "stream",
     "text": [
      "given string is palindrome\n"
     ]
    }
   ],
   "source": [
    "'''4. Write a program that takes a string as input and checks if it is a palindrome'''\n",
    "\n",
    "s=input(\"enter any string\")\n",
    "if (s==s[::-1]):\n",
    "    print(\"given string is palindrome\")\n",
    "else:\n",
    "    print(\"string is not a palindrome\")"
   ]
  },
  {
   "cell_type": "code",
   "execution_count": 34,
   "id": "73e534e5-8b73-4261-909a-7cf8143db3eb",
   "metadata": {},
   "outputs": [
    {
     "data": {
      "text/plain": [
       "'pwskills'"
      ]
     },
     "execution_count": 34,
     "metadata": {},
     "output_type": "execute_result"
    }
   ],
   "source": [
    "'''Create a program that takes a string as input and removes all the spaces from\n",
    "it. Print the modified string without spaces.'''\n",
    "\n",
    "s='    pwskills  '\n",
    "s.strip()"
   ]
  },
  {
   "cell_type": "code",
   "execution_count": 4,
   "id": "b5588288-8c4c-42c1-83e5-4b707a195086",
   "metadata": {},
   "outputs": [
    {
     "name": "stdin",
     "output_type": "stream",
     "text": [
      "enter sentence:  hello how are you\n"
     ]
    },
    {
     "name": "stdout",
     "output_type": "stream",
     "text": [
      "no.of vowels im the sentance are:  7\n"
     ]
    }
   ],
   "source": [
    "'''2. Create a program that takes a sentence from the user and counts the number\n",
    "of vowels (a, e, i, o, u) in the string.'''\n",
    "\n",
    "x=input(\"enter sentence: \")\n",
    "vowel_count=0\n",
    "for char in x:\n",
    "    if char.lower() in \"aeiou\":\n",
    "        vowel_count+=1\n",
    "print(\"no.of vowels im the sentance are: \",vowel_count)"
   ]
  },
  {
   "cell_type": "code",
   "execution_count": 8,
   "id": "031b684e-b221-4590-aad7-90441467331d",
   "metadata": {},
   "outputs": [
    {
     "name": "stdin",
     "output_type": "stream",
     "text": [
      "enter string:  \"hello world\"\n"
     ]
    },
    {
     "name": "stdout",
     "output_type": "stream",
     "text": [
      "string without spaces:  \"hello world\"\n"
     ]
    }
   ],
   "source": [
    "'''5. Create a program that takes a string as input and removes all the spaces from\n",
    "it. Print the modified string without spaces.'''\n",
    "\n",
    "string=input(\"enter string: \")\n",
    "string_without_spaces=string.replace(\" \",\" \")\n",
    "\n",
    "print(\"string without spaces: \",string_without_spaces)"
   ]
  },
  {
   "cell_type": "code",
   "execution_count": null,
   "id": "0bb721af-8382-4b2e-9a9a-b2b31614c412",
   "metadata": {},
   "outputs": [],
   "source": []
  }
 ],
 "metadata": {
  "kernelspec": {
   "display_name": "Python 3 (ipykernel)",
   "language": "python",
   "name": "python3"
  },
  "language_info": {
   "codemirror_mode": {
    "name": "ipython",
    "version": 3
   },
   "file_extension": ".py",
   "mimetype": "text/x-python",
   "name": "python",
   "nbconvert_exporter": "python",
   "pygments_lexer": "ipython3",
   "version": "3.10.8"
  },
  "toc-autonumbering": true,
  "toc-showcode": true
 },
 "nbformat": 4,
 "nbformat_minor": 5
}
